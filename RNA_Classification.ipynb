{
 "cells": [
  {
   "cell_type": "code",
   "execution_count": 1,
   "id": "2f8fad70",
   "metadata": {},
   "outputs": [],
   "source": [
    "import numpy as np\n",
    "import pandas as pd\n",
    "\n",
    "from pathlib import Path\n",
    "\n",
    "from ftplib import FTP\n",
    "\n",
    "import matplotlib.pyplot as plt\n",
    "import seaborn as sns\n",
    "\n",
    "plt.style.use('seaborn-dark-palette')\n",
    "%matplotlib inline"
   ]
  },
  {
   "cell_type": "markdown",
   "id": "e6555249",
   "metadata": {},
   "source": [
    "Below is code to automatically grab a file from the FTP for RNAcentral. FTPlib doesn't like large files though, so I ended up doing it manually. "
   ]
  },
  {
   "cell_type": "code",
   "execution_count": 2,
   "id": "0375153d",
   "metadata": {},
   "outputs": [],
   "source": [
    "# HOSTNAME = 'ftp.ebi.ac.uk'\n",
    "\n",
    "# ftp = FTP(HOSTNAME)\n",
    "\n",
    "# ftp.login()\n",
    "\n",
    "# ftp.cwd('pub/databases/RNAcentral/current_release/json')\n",
    "\n",
    "# filename = 'ensembl-xref-1-100001.json'\n",
    "\n",
    "# with open(filename, \"w\") as rna_json:\n",
    "#     ftp.retrlines(f\"RETR {filename}\", rna_json.write)\n"
   ]
  },
  {
   "cell_type": "markdown",
   "id": "e3797c36-417f-475c-b72f-318e787af732",
   "metadata": {},
   "source": [
    "Instead of automated requests, I grabbed a few of the JSON files from the FTP, which can be read in with the following function. "
   ]
  },
  {
   "cell_type": "code",
   "execution_count": 3,
   "id": "2744d705",
   "metadata": {},
   "outputs": [],
   "source": [
    "def load_rna(fname, inc_other=True, simple_descrips=False):\n",
    "    rna = pd.read_json(fname)\n",
    "    \n",
    "    # drop extra columns\n",
    "    rna = rna.drop(['xrefs', 'md5'], axis=1)\n",
    "    \n",
    "    # make the column names pretty\n",
    "    cols = {'rnacentral_id': 'RNA ID', 'description': 'Description', 'sequence':'Sequence', 'rna_type': 'RNA Type', 'taxon_id': 'Taxon ID'}\n",
    "    rna = rna.rename(columns=cols)\n",
    "    \n",
    "    # remove underscores from RNA type\n",
    "    rna['RNA Type'] = rna.apply(lambda row : (row['RNA Type'].replace('_', ' ')), axis=1)\n",
    "    \n",
    "    # drop rows with unclassified RNAs? \n",
    "    if not inc_other:\n",
    "        rna = rna[rna['RNA Type'] != 'other']\n",
    "    \n",
    "    # Remove everything except latin name from species description\n",
    "    if simple_descrips:\n",
    "        rna['Description'] = rna.apply(lambda row : (row['Description'].split(' ')[0] + ' ' + row['Description'].split(' ')[1]), axis=1)\n",
    "    \n",
    "    return rna\n",
    "\n"
   ]
  },
  {
   "cell_type": "code",
   "execution_count": 4,
   "id": "23c14797-fde7-4403-a3c7-e74246a15e92",
   "metadata": {},
   "outputs": [
    {
     "name": "stdout",
     "output_type": "stream",
     "text": [
      "Loading data from data\\ensembl-xref-10000001-10100001.json\n",
      "Loading data from data\\ensembl-xref-16500001-16600001.json\n",
      "Loading data from data\\ensembl-xref-22600001-22700001.json\n",
      "Loading data from data\\ensembl-xref-29100001-29200001.json\n",
      "Loading data from data\\ensembl-xref-29200001-29300001.json\n",
      "Loading data from data\\ensembl-xref-34100001-34200001.json\n",
      "Loading data from data\\ensembl-xref-6800001-6900001.json\n",
      "Loading data from data\\ensembl-xref-6900001-7000001.json\n",
      "Loading data from data\\ensembl-xref-7000001-7100001.json\n",
      "Loading data from data\\ensembl-xref-7100001-7200001.json\n",
      "Loading data from data\\ensembl-xref-7200001-7300001.json\n",
      "Loading data from data\\ensembl-xref-7300001-7400001.json\n",
      "Loading data from data\\ensembl-xref-7400001-7500001.json\n",
      "Loading data from data\\ensembl-xref-9400001-9500001.json\n",
      "All data loaded.\n"
     ]
    }
   ],
   "source": [
    "# load a batch of data files from RNAcentral or load in a single file?\n",
    "load_all = True\n",
    "\n",
    "if load_all:\n",
    "    p = Path()\n",
    "    p = p / 'data'\n",
    "    files = p.glob('ensembl-*')\n",
    "    rna = pd.DataFrame()\n",
    "\n",
    "    for file in files:\n",
    "        try: \n",
    "            print(f'Loading data from {str(file)}')\n",
    "            rna = pd.concat([rna, load_rna(str(file), inc_other=False, simple_descrips=True)])\n",
    "        except:\n",
    "            print(f'Could not load data from {str(file)}')\n",
    "\n",
    "    print('All data loaded.')\n",
    "\n",
    "else:\n",
    "    rna = load_rna('data\\ensembl-xref-34100001-34200001.json')\n"
   ]
  },
  {
   "cell_type": "code",
   "execution_count": 5,
   "id": "78580d12-c200-44d3-b708-decabd11a3ee",
   "metadata": {
    "scrolled": true
   },
   "outputs": [
    {
     "data": {
      "text/html": [
       "<div>\n",
       "<style scoped>\n",
       "    .dataframe tbody tr th:only-of-type {\n",
       "        vertical-align: middle;\n",
       "    }\n",
       "\n",
       "    .dataframe tbody tr th {\n",
       "        vertical-align: top;\n",
       "    }\n",
       "\n",
       "    .dataframe thead th {\n",
       "        text-align: right;\n",
       "    }\n",
       "</style>\n",
       "<table border=\"1\" class=\"dataframe\">\n",
       "  <thead>\n",
       "    <tr style=\"text-align: right;\">\n",
       "      <th></th>\n",
       "      <th>RNA ID</th>\n",
       "      <th>Description</th>\n",
       "      <th>Sequence</th>\n",
       "      <th>RNA Type</th>\n",
       "      <th>Taxon ID</th>\n",
       "    </tr>\n",
       "  </thead>\n",
       "  <tbody>\n",
       "    <tr>\n",
       "      <th>0</th>\n",
       "      <td>URS0000989683_419612</td>\n",
       "      <td>Camelus ferus</td>\n",
       "      <td>GGAGGGTAAGCTCAGTGGTTAGAATACATGCTTAGCATGCAGGAGG...</td>\n",
       "      <td>tRNA</td>\n",
       "      <td>419612</td>\n",
       "    </tr>\n",
       "    <tr>\n",
       "      <th>1</th>\n",
       "      <td>URS000098968A_4081</td>\n",
       "      <td>Solanum lycopersicum</td>\n",
       "      <td>AGAACCCTCAGAGGCTACAACCCAACACCATCACCTAAACCAAGCT...</td>\n",
       "      <td>ncRNA</td>\n",
       "      <td>4081</td>\n",
       "    </tr>\n",
       "    <tr>\n",
       "      <th>2</th>\n",
       "      <td>URS000098968B_45351</td>\n",
       "      <td>Nematostella vectensis</td>\n",
       "      <td>GGTTAGTTTTCCCTACTGATGAAGTGTTGTTGCAATAGTAATTCTG...</td>\n",
       "      <td>ncRNA</td>\n",
       "      <td>45351</td>\n",
       "    </tr>\n",
       "    <tr>\n",
       "      <th>3</th>\n",
       "      <td>URS000098969B_9361</td>\n",
       "      <td>Dasypus novemcinctus</td>\n",
       "      <td>ATGCTAGCTTCAGCAGCACATATGCTAAAATTGGAATGATACAGAG...</td>\n",
       "      <td>snRNA</td>\n",
       "      <td>9361</td>\n",
       "    </tr>\n",
       "    <tr>\n",
       "      <th>4</th>\n",
       "      <td>URS00009896A2_9541</td>\n",
       "      <td>Macaca fascicularis</td>\n",
       "      <td>GCCGGGTGTGGTGGCTCACGCCTGTAATCCCAATAGTTTGGGAGGC...</td>\n",
       "      <td>sRNA</td>\n",
       "      <td>9541</td>\n",
       "    </tr>\n",
       "  </tbody>\n",
       "</table>\n",
       "</div>"
      ],
      "text/plain": [
       "                 RNA ID             Description  \\\n",
       "0  URS0000989683_419612           Camelus ferus   \n",
       "1    URS000098968A_4081    Solanum lycopersicum   \n",
       "2   URS000098968B_45351  Nematostella vectensis   \n",
       "3    URS000098969B_9361    Dasypus novemcinctus   \n",
       "4    URS00009896A2_9541     Macaca fascicularis   \n",
       "\n",
       "                                            Sequence RNA Type  Taxon ID  \n",
       "0  GGAGGGTAAGCTCAGTGGTTAGAATACATGCTTAGCATGCAGGAGG...     tRNA    419612  \n",
       "1  AGAACCCTCAGAGGCTACAACCCAACACCATCACCTAAACCAAGCT...    ncRNA      4081  \n",
       "2  GGTTAGTTTTCCCTACTGATGAAGTGTTGTTGCAATAGTAATTCTG...    ncRNA     45351  \n",
       "3  ATGCTAGCTTCAGCAGCACATATGCTAAAATTGGAATGATACAGAG...    snRNA      9361  \n",
       "4  GCCGGGTGTGGTGGCTCACGCCTGTAATCCCAATAGTTTGGGAGGC...     sRNA      9541  "
      ]
     },
     "execution_count": 5,
     "metadata": {},
     "output_type": "execute_result"
    }
   ],
   "source": [
    "rna.head()"
   ]
  },
  {
   "cell_type": "code",
   "execution_count": 6,
   "id": "5247ef19",
   "metadata": {},
   "outputs": [
    {
     "ename": "ValueError",
     "evalue": "The truth value of a Series is ambiguous. Use a.empty, a.bool(), a.item(), a.any() or a.all().",
     "output_type": "error",
     "traceback": [
      "\u001b[1;31m---------------------------------------------------------------------------\u001b[0m",
      "\u001b[1;31mValueError\u001b[0m                                Traceback (most recent call last)",
      "\u001b[1;32m~\\AppData\\Local\\Temp\\ipykernel_160808\\4033514287.py\u001b[0m in \u001b[0;36m<module>\u001b[1;34m\u001b[0m\n\u001b[0;32m      4\u001b[0m \u001b[1;32mfor\u001b[0m \u001b[0mi\u001b[0m \u001b[1;32min\u001b[0m \u001b[0mrange\u001b[0m\u001b[1;33m(\u001b[0m\u001b[0mlen\u001b[0m\u001b[1;33m(\u001b[0m\u001b[0msequence\u001b[0m\u001b[1;33m)\u001b[0m\u001b[1;33m)\u001b[0m\u001b[1;33m:\u001b[0m\u001b[1;33m\u001b[0m\u001b[1;33m\u001b[0m\u001b[0m\n\u001b[0;32m      5\u001b[0m     \u001b[1;32mfor\u001b[0m \u001b[0mj\u001b[0m \u001b[1;32min\u001b[0m \u001b[0mrange\u001b[0m\u001b[1;33m(\u001b[0m\u001b[0mlen\u001b[0m\u001b[1;33m(\u001b[0m\u001b[0msequence\u001b[0m\u001b[1;33m)\u001b[0m\u001b[1;33m)\u001b[0m\u001b[1;33m:\u001b[0m\u001b[1;33m\u001b[0m\u001b[1;33m\u001b[0m\u001b[0m\n\u001b[1;32m----> 6\u001b[1;33m         \u001b[1;32mif\u001b[0m \u001b[0msequence\u001b[0m\u001b[1;33m[\u001b[0m\u001b[0mi\u001b[0m\u001b[1;33m]\u001b[0m \u001b[1;33m==\u001b[0m \u001b[0msequence\u001b[0m\u001b[1;33m[\u001b[0m\u001b[0mj\u001b[0m\u001b[1;33m]\u001b[0m\u001b[1;33m:\u001b[0m\u001b[1;33m\u001b[0m\u001b[1;33m\u001b[0m\u001b[0m\n\u001b[0m\u001b[0;32m      7\u001b[0m             \u001b[0mmerge_sequence\u001b[0m\u001b[1;33m.\u001b[0m\u001b[0mappend\u001b[0m\u001b[1;33m(\u001b[0m\u001b[0mrna\u001b[0m\u001b[1;33m[\u001b[0m\u001b[0mj\u001b[0m\u001b[1;33m]\u001b[0m\u001b[1;33m)\u001b[0m\u001b[1;33m\u001b[0m\u001b[1;33m\u001b[0m\u001b[0m\n",
      "\u001b[1;32m~\\anaconda3\\lib\\site-packages\\pandas\\core\\generic.py\u001b[0m in \u001b[0;36m__nonzero__\u001b[1;34m(self)\u001b[0m\n\u001b[0;32m   1525\u001b[0m     \u001b[1;33m@\u001b[0m\u001b[0mfinal\u001b[0m\u001b[1;33m\u001b[0m\u001b[1;33m\u001b[0m\u001b[0m\n\u001b[0;32m   1526\u001b[0m     \u001b[1;32mdef\u001b[0m \u001b[0m__nonzero__\u001b[0m\u001b[1;33m(\u001b[0m\u001b[0mself\u001b[0m\u001b[1;33m)\u001b[0m\u001b[1;33m:\u001b[0m\u001b[1;33m\u001b[0m\u001b[1;33m\u001b[0m\u001b[0m\n\u001b[1;32m-> 1527\u001b[1;33m         raise ValueError(\n\u001b[0m\u001b[0;32m   1528\u001b[0m             \u001b[1;34mf\"The truth value of a {type(self).__name__} is ambiguous. \"\u001b[0m\u001b[1;33m\u001b[0m\u001b[1;33m\u001b[0m\u001b[0m\n\u001b[0;32m   1529\u001b[0m             \u001b[1;34m\"Use a.empty, a.bool(), a.item(), a.any() or a.all().\"\u001b[0m\u001b[1;33m\u001b[0m\u001b[1;33m\u001b[0m\u001b[0m\n",
      "\u001b[1;31mValueError\u001b[0m: The truth value of a Series is ambiguous. Use a.empty, a.bool(), a.item(), a.any() or a.all()."
     ]
    }
   ],
   "source": [
    "merge_sequence = pd.DataFrame()\n",
    "sequence = rna['Sequence']\n",
    "\n",
    "for i in range(len(sequence)):\n",
    "    for j in range(len(sequence)):\n",
    "        if sequence[i] == sequence[j]:\n",
    "            merge_sequence.append(rna[j])"
   ]
  }
 ],
 "metadata": {
  "kernelspec": {
   "display_name": "Python 3 (ipykernel)",
   "language": "python",
   "name": "python3"
  },
  "language_info": {
   "codemirror_mode": {
    "name": "ipython",
    "version": 3
   },
   "file_extension": ".py",
   "mimetype": "text/x-python",
   "name": "python",
   "nbconvert_exporter": "python",
   "pygments_lexer": "ipython3",
   "version": "3.9.12"
  }
 },
 "nbformat": 4,
 "nbformat_minor": 5
}
