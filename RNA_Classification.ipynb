{
 "cells": [
  {
   "cell_type": "code",
   "execution_count": null,
   "id": "2f8fad70",
   "metadata": {},
   "outputs": [],
   "source": [
    "import numpy as np\n",
    "import pandas as pd\n",
    "\n",
    "from pathlib import Path\n",
    "\n",
    "from ftplib import FTP\n",
    "\n",
    "import matplotlib.pyplot as plt\n",
    "import seaborn as sns\n",
    "\n",
    "plt.style.use('seaborn-dark-palette')\n",
    "%matplotlib inline"
   ]
  },
  {
   "cell_type": "markdown",
   "id": "e6555249",
   "metadata": {},
   "source": [
    "Below is code to automatically grab a file from the FTP for RNAcentral. FTPlib doesn't like large files though, so I ended up doing it manually. "
   ]
  },
  {
   "cell_type": "code",
   "execution_count": null,
   "id": "0375153d",
   "metadata": {},
   "outputs": [],
   "source": [
    "# HOSTNAME = 'ftp.ebi.ac.uk'\n",
    "\n",
    "# ftp = FTP(HOSTNAME)\n",
    "\n",
    "# ftp.login()\n",
    "\n",
    "# ftp.cwd('pub/databases/RNAcentral/current_release/json')\n",
    "\n",
    "# filename = 'ensembl-xref-1-100001.json'\n",
    "\n",
    "# with open(filename, \"w\") as rna_json:\n",
    "#     ftp.retrlines(f\"RETR {filename}\", rna_json.write)\n"
   ]
  },
  {
   "cell_type": "markdown",
   "id": "e3797c36-417f-475c-b72f-318e787af732",
   "metadata": {},
   "source": [
    "Instead of automated requests, I grabbed a few of the JSON files from the FTP, which can be read in with the following function. "
   ]
  },
  {
   "cell_type": "code",
   "execution_count": null,
   "id": "2744d705",
   "metadata": {},
   "outputs": [],
   "source": [
    "def load_rna(fname, inc_other=True, merge_other=True, simple_descrips=False, drop=True):\n",
    "    rna = pd.read_json(fname)\n",
    "    \n",
    "    # drop extra columns which reference external databases -- always\n",
    "    rna = rna.drop(['xrefs', 'md5'], axis=1)\n",
    "    \n",
    "    # make the column names pretty\n",
    "    cols = {'rnacentral_id': 'RNA ID', 'description': 'Description', 'sequence':'Sequence', 'rna_type': 'RNA Type', 'taxon_id': 'Taxon ID'}\n",
    "    rna = rna.rename(columns=cols)\n",
    "    \n",
    "    # remove underscores from RNA type\n",
    "    rna['RNA Type'] = rna.apply(lambda row : (row['RNA Type'].replace('_', ' ')), axis=1)\n",
    "    \n",
    "    # combine the 'other', 'misc', 'nc', and 'lnc' types\\n\",\n",
    "    if merge_other:\n",
    "        rna['RNA Type'] = rna.apply(lambda row : (row['RNA Type'].replace('misc RNA', 'other')), axis=1)\n",
    "        rna['RNA Type'] = rna.apply(lambda row : (row['RNA Type'].replace('lncRNA', 'other')), axis=1)\n",
    "        rna['RNA Type'] = rna.apply(lambda row : (row['RNA Type'].replace('ncRNA', 'other')), axis=1)\n",
    "\n",
    "    # drop rows with unclassified RNAs? \n",
    "    if not inc_other:\n",
    "        rna = rna[rna['RNA Type'] != 'other']\n",
    "        \n",
    "        if not merge_other:\n",
    "            rna = rna[rna['RNA Type'] != 'misc RNA']\n",
    "            rna = rna[rna['RNA Type'] != 'ncRNA']\n",
    "            rna = rna[rna['RNA Type'] != 'lncRNA']\n",
    "    \n",
    "    # Remove everything except latin name from species description\n",
    "    if simple_descrips:\n",
    "        rna['Description'] = rna.apply(lambda row : (row['Description'].split(' ')[0] + ' ' + row['Description'].split(' ')[1]), axis=1)\\\n",
    "        \n",
    "    # drop extra columns with unnecessary info -- optional\n",
    "    if drop:\n",
    "        rna = rna.drop(['Taxon ID', 'RNA ID', 'Description'], axis=1)\n",
    "    \n",
    "    return rna\n",
    "\n"
   ]
  },
  {
   "cell_type": "code",
   "execution_count": null,
   "id": "23c14797-fde7-4403-a3c7-e74246a15e92",
   "metadata": {},
   "outputs": [],
   "source": [
    "# load a batch of data files from RNAcentral or load in a single file?\n",
    "load_all = True\n",
    "\n",
    "if load_all:\n",
    "    p = Path()\n",
    "    p = p / 'data'\n",
    "    files = p.glob('ensembl-*')\n",
    "    rna = pd.DataFrame()\n",
    "\n",
    "    for file in files:\n",
    "        try: \n",
    "            print(f'Loading data from {str(file)}')\n",
    "            rna = pd.concat([rna, load_rna(str(file), inc_other=False, simple_descrips=True)])\n",
    "        except:\n",
    "            print(f'Could not load data from {str(file)}')\n",
    "\n",
    "    print('All data loaded.')\n",
    "\n",
    "else:\n",
    "    rna = load_rna('data\\ensembl-xref-34100001-34200001.json')\n"
   ]
  },
  {
   "cell_type": "code",
   "execution_count": null,
   "id": "fb66c56f-7a97-4281-8056-eaea577ed667",
   "metadata": {},
   "outputs": [],
   "source": [
    "def contract_families(types):\n",
    "    \n",
    "    classification = []\n",
    "    \n",
    "    classes = {'cis-reg': ['IRES', 'leader', 'riboswitch'], \n",
    "               'intron': ['autocatalytically spliced intron', 'intron gpI', 'intron gpII', 'intron'],\n",
    "                  'gene': ['tRNA', 'rRNA', 'snRNA', 'snoRNA', 'pre miRNA', 'hammerhead ribozyme', 'SRP RNA', 'sRNA', 'Y RNA',\n",
    "                          'RNase P RNA', 'lncRNA', 'tmRNA', 'RNase MRP RNA', 'vault RNA', 'ribozyme', 'miRNA', 'antisense RNA',\n",
    "                          'telomerase RNA', 'scRNA', 'precursor RNA', 'scaRNA', 'piRNA'], 'artificial': ['guide RNA', 'siRNA']}\n",
    "\n",
    "    for t in types:\n",
    "        flag = False\n",
    "        for c  in classes.keys():\n",
    "            if t in classes[c]:\n",
    "                classification.append(c)\n",
    "                flag = True\n",
    "                break\n",
    "\n",
    "        if not flag:\n",
    "            classification.append(t)\n",
    "\n",
    "\n",
    "    family = []\n",
    "    \n",
    "    families = {'tRNA': ['tRNA', 'tmRNA'], 'rRNA': ['rRNA', 'SRP RNA', 'Y RNA'], 'snRNA': 'snRNA', \n",
    "                'snoRNA': ['snoRNA', 'scRNA', 'scaRNA'], 'miRNA': ['pre miRNA', 'miRNA', 'piRNA'], 'precursor RNA': ['precursor RNA'],\n",
    "                'ribozyme': ['hammerhead ribozyme', 'RNase P RNA', 'RNase MRP RNA', 'ribozyme', 'autocatalytically spliced intron'], \n",
    "                'sRNA': ['sRNA'], 'antisense': ['antisense'], 'vault RNA': ['vault RNA'], 'telomerase RNA': ['telomerase RNA'],\n",
    "                'artificial': ['guide RNA', 'siRNA']}\n",
    "\n",
    "    for t in types:\n",
    "        flag = False\n",
    "        for f in families.keys():\n",
    "            if t in families[f]:\n",
    "                family.append(f)\n",
    "                flag = True\n",
    "                break\n",
    "\n",
    "        if not flag:\n",
    "            family.append(t)\n",
    "            \n",
    "    return classification, family"
   ]
  },
  {
   "cell_type": "code",
   "execution_count": null,
   "id": "78580d12-c200-44d3-b708-decabd11a3ee",
   "metadata": {},
   "outputs": [],
   "source": [
    "rna['RNA Class'], rna['RNA Family'] = contract_families(rna['RNA Type'])\n",
    "rna.head()"
   ]
  },
  {
   "cell_type": "code",
   "execution_count": null,
   "id": "f1caf72a",
   "metadata": {},
   "outputs": [],
   "source": [
    "merge_sequence = rna.groupby(\"Sequence\").agg({'RNA Type':'first'}).reset_index()\n",
    "print(len(rna))\n",
    "print(len(merge_sequence))"
   ]
  },
  {
   "cell_type": "code",
   "execution_count": null,
   "id": "e1c34a97-b9de-4f9e-8ae2-b052c7f29229",
   "metadata": {},
   "outputs": [],
   "source": [
    "def visual_comp_merged(original_seq, merged_seq, cat='RNA Type'):\n",
    "    typcount = original_seq[cat].value_counts()\n",
    "    mtypcount = merged_seq[cat].value_counts()\n",
    "    xpos = np.arange(0, 2*len(typcount.index), 2)\n",
    "    \n",
    "    plt.figure()\n",
    "    plt.bar(x=xpos, height=typcount, log=True, width=-0.8, align='edge', tick_label=typcount.index)\n",
    "    plt.bar(x=xpos, height=mtypcount, log=True, width=0.8, align='edge')\n",
    "\n",
    "    plt.xticks(rotation=90)\n",
    "    plt.xlabel(f'{cat}')\n",
    "    plt.ylabel('Log count');"
   ]
  },
  {
   "cell_type": "code",
   "execution_count": null,
   "id": "7e9b0b6b-b006-409d-aa7c-6967b7e54bd8",
   "metadata": {},
   "outputs": [],
   "source": [
    "merge_sequence['RNA Class'], merge_sequence['RNA Family'] = contract_families(merge_sequence['RNA Type'])\n",
    "visual_comp_merged(rna, merge_sequence)\n",
    "visual_comp_merged(rna, merge_sequence, 'RNA Class')\n",
    "visual_comp_merged(rna, merge_sequence, 'RNA Family')"
   ]
  }
 ],
 "metadata": {
  "kernelspec": {
   "display_name": "Python 3 (ipykernel)",
   "language": "python",
   "name": "python3"
  },
  "language_info": {
   "codemirror_mode": {
    "name": "ipython",
    "version": 3
   },
   "file_extension": ".py",
   "mimetype": "text/x-python",
   "name": "python",
   "nbconvert_exporter": "python",
   "pygments_lexer": "ipython3",
   "version": "3.9.12"
  }
 },
 "nbformat": 4,
 "nbformat_minor": 5
}
