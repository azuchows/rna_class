{
 "cells": [
  {
   "cell_type": "code",
   "execution_count": 1,
   "id": "2f8fad70",
   "metadata": {},
   "outputs": [],
   "source": [
    "import numpy as np\n",
    "import pandas as pd\n",
    "\n",
    "from pathlib import Path\n",
    "\n",
    "from ftplib import FTP\n",
    "\n",
    "import matplotlib.pyplot as plt\n",
    "import seaborn as sns\n",
    "\n",
    "plt.style.use('seaborn-dark-palette')\n",
    "%matplotlib inline"
   ]
  },
  {
   "cell_type": "markdown",
   "id": "e6555249",
   "metadata": {},
   "source": [
    "Below is code to automatically grab a file from the FTP for RNAcentral. FTPlib doesn't like large files though, so I ended up doing it manually. "
   ]
  },
  {
   "cell_type": "code",
   "execution_count": 2,
   "id": "0375153d",
   "metadata": {},
   "outputs": [],
   "source": [
    "# HOSTNAME = 'ftp.ebi.ac.uk'\n",
    "\n",
    "# ftp = FTP(HOSTNAME)\n",
    "\n",
    "# ftp.login()\n",
    "\n",
    "# ftp.cwd('pub/databases/RNAcentral/current_release/json')\n",
    "\n",
    "# filename = 'ensembl-xref-1-100001.json'\n",
    "\n",
    "# with open(filename, \"w\") as rna_json:\n",
    "#     ftp.retrlines(f\"RETR {filename}\", rna_json.write)\n"
   ]
  },
  {
   "cell_type": "markdown",
   "id": "e3797c36-417f-475c-b72f-318e787af732",
   "metadata": {},
   "source": [
    "Instead of automated requests, I grabbed a few of the JSON files from the FTP, which can be read in with the following function. "
   ]
  },
  {
   "cell_type": "code",
   "execution_count": 3,
   "id": "2744d705",
   "metadata": {},
   "outputs": [],
   "source": [
    "def load_rna(fname, inc_other=True, simple_descrips=False, drop=True):\n",
    "    rna = pd.read_json(fname)\n",
    "    \n",
    "    # drop extra columns which reference external databases -- always\n",
    "    rna = rna.drop(['xrefs', 'md5'], axis=1)\n",
    "    \n",
    "    # make the column names pretty\n",
    "    cols = {'rnacentral_id': 'RNA ID', 'description': 'Description', 'sequence':'Sequence', 'rna_type': 'RNA Type', 'taxon_id': 'Taxon ID'}\n",
    "    rna = rna.rename(columns=cols)\n",
    "    \n",
    "    # remove underscores from RNA type\n",
    "    rna['RNA Type'] = rna.apply(lambda row : (row['RNA Type'].replace('_', ' ')), axis=1)\n",
    "\n",
    "    # drop rows with unclassified RNAs? \n",
    "    if not inc_other:\n",
    "        rna = rna[rna['RNA Type'] != 'other']\n",
    "    \n",
    "    # Remove everything except latin name from species description\n",
    "    if simple_descrips:\n",
    "        rna['Description'] = rna.apply(lambda row : (row['Description'].split(' ')[0] + ' ' + row['Description'].split(' ')[1]), axis=1)\\\n",
    "        \n",
    "    # drop extra columns with unnecessary info -- optional\n",
    "    if drop:\n",
    "        rna = rna.drop(['Taxon ID', 'RNA ID', 'Description'], axis=1)\n",
    "    \n",
    "    return rna\n",
    "\n"
   ]
  },
  {
   "cell_type": "code",
   "execution_count": 4,
   "id": "23c14797-fde7-4403-a3c7-e74246a15e92",
   "metadata": {},
   "outputs": [
    {
     "name": "stdout",
     "output_type": "stream",
     "text": [
      "Loading data from data\\ensembl-xref-10000001-10100001.json\n",
      "Loading data from data\\ensembl-xref-16500001-16600001.json\n",
      "Loading data from data\\ensembl-xref-22600001-22700001.json\n",
      "Loading data from data\\ensembl-xref-29100001-29200001.json\n",
      "Loading data from data\\ensembl-xref-29200001-29300001.json\n",
      "Loading data from data\\ensembl-xref-34100001-34200001.json\n",
      "Loading data from data\\ensembl-xref-6800001-6900001.json\n",
      "Loading data from data\\ensembl-xref-6900001-7000001.json\n",
      "Loading data from data\\ensembl-xref-7000001-7100001.json\n",
      "Loading data from data\\ensembl-xref-7100001-7200001.json\n",
      "Loading data from data\\ensembl-xref-7200001-7300001.json\n",
      "Loading data from data\\ensembl-xref-7300001-7400001.json\n",
      "Loading data from data\\ensembl-xref-7400001-7500001.json\n",
      "Loading data from data\\ensembl-xref-9400001-9500001.json\n",
      "All data loaded.\n"
     ]
    }
   ],
   "source": [
    "# load a batch of data files from RNAcentral or load in a single file?\n",
    "load_all = True\n",
    "\n",
    "if load_all:\n",
    "    p = Path()\n",
    "    p = p / 'data'\n",
    "    files = p.glob('ensembl-*')\n",
    "    rna = pd.DataFrame()\n",
    "\n",
    "    for file in files:\n",
    "        try: \n",
    "            print(f'Loading data from {str(file)}')\n",
    "            rna = pd.concat([rna, load_rna(str(file), inc_other=False, simple_descrips=True)])\n",
    "        except:\n",
    "            print(f'Could not load data from {str(file)}')\n",
    "\n",
    "    print('All data loaded.')\n",
    "\n",
    "else:\n",
    "    rna = load_rna('data\\ensembl-xref-34100001-34200001.json')\n"
   ]
  },
  {
   "cell_type": "code",
   "execution_count": 5,
   "id": "78580d12-c200-44d3-b708-decabd11a3ee",
   "metadata": {
    "scrolled": true
   },
   "outputs": [
    {
     "data": {
      "text/html": [
       "<div>\n",
       "<style scoped>\n",
       "    .dataframe tbody tr th:only-of-type {\n",
       "        vertical-align: middle;\n",
       "    }\n",
       "\n",
       "    .dataframe tbody tr th {\n",
       "        vertical-align: top;\n",
       "    }\n",
       "\n",
       "    .dataframe thead th {\n",
       "        text-align: right;\n",
       "    }\n",
       "</style>\n",
       "<table border=\"1\" class=\"dataframe\">\n",
       "  <thead>\n",
       "    <tr style=\"text-align: right;\">\n",
       "      <th></th>\n",
       "      <th>Sequence</th>\n",
       "      <th>RNA Type</th>\n",
       "    </tr>\n",
       "  </thead>\n",
       "  <tbody>\n",
       "    <tr>\n",
       "      <th>0</th>\n",
       "      <td>GGAGGGTAAGCTCAGTGGTTAGAATACATGCTTAGCATGCAGGAGG...</td>\n",
       "      <td>tRNA</td>\n",
       "    </tr>\n",
       "    <tr>\n",
       "      <th>1</th>\n",
       "      <td>AGAACCCTCAGAGGCTACAACCCAACACCATCACCTAAACCAAGCT...</td>\n",
       "      <td>ncRNA</td>\n",
       "    </tr>\n",
       "    <tr>\n",
       "      <th>2</th>\n",
       "      <td>GGTTAGTTTTCCCTACTGATGAAGTGTTGTTGCAATAGTAATTCTG...</td>\n",
       "      <td>ncRNA</td>\n",
       "    </tr>\n",
       "    <tr>\n",
       "      <th>3</th>\n",
       "      <td>ATGCTAGCTTCAGCAGCACATATGCTAAAATTGGAATGATACAGAG...</td>\n",
       "      <td>snRNA</td>\n",
       "    </tr>\n",
       "    <tr>\n",
       "      <th>4</th>\n",
       "      <td>GCCGGGTGTGGTGGCTCACGCCTGTAATCCCAATAGTTTGGGAGGC...</td>\n",
       "      <td>sRNA</td>\n",
       "    </tr>\n",
       "  </tbody>\n",
       "</table>\n",
       "</div>"
      ],
      "text/plain": [
       "                                            Sequence RNA Type\n",
       "0  GGAGGGTAAGCTCAGTGGTTAGAATACATGCTTAGCATGCAGGAGG...     tRNA\n",
       "1  AGAACCCTCAGAGGCTACAACCCAACACCATCACCTAAACCAAGCT...    ncRNA\n",
       "2  GGTTAGTTTTCCCTACTGATGAAGTGTTGTTGCAATAGTAATTCTG...    ncRNA\n",
       "3  ATGCTAGCTTCAGCAGCACATATGCTAAAATTGGAATGATACAGAG...    snRNA\n",
       "4  GCCGGGTGTGGTGGCTCACGCCTGTAATCCCAATAGTTTGGGAGGC...     sRNA"
      ]
     },
     "execution_count": 5,
     "metadata": {},
     "output_type": "execute_result"
    }
   ],
   "source": [
    "rna.head()"
   ]
  },
  {
   "cell_type": "code",
   "execution_count": 15,
   "id": "5247ef19",
   "metadata": {},
   "outputs": [
    {
     "ename": "TypeError",
     "evalue": "'int' object is not callable",
     "output_type": "error",
     "traceback": [
      "\u001b[1;31m---------------------------------------------------------------------------\u001b[0m",
      "\u001b[1;31mTypeError\u001b[0m                                 Traceback (most recent call last)",
      "\u001b[1;32m~\\AppData\\Local\\Temp\\ipykernel_8456\\950478348.py\u001b[0m in \u001b[0;36m<module>\u001b[1;34m\u001b[0m\n\u001b[0;32m     16\u001b[0m                 \u001b[0mi\u001b[0m \u001b[1;33m+=\u001b[0m \u001b[1;36m1\u001b[0m\u001b[1;33m\u001b[0m\u001b[1;33m\u001b[0m\u001b[0m\n\u001b[0;32m     17\u001b[0m     \u001b[1;32mreturn\u001b[0m \u001b[0mvec\u001b[0m\u001b[1;33m\u001b[0m\u001b[1;33m\u001b[0m\u001b[0m\n\u001b[1;32m---> 18\u001b[1;33m \u001b[0mcleaned_vec\u001b[0m \u001b[1;33m=\u001b[0m \u001b[0mcomparison\u001b[0m\u001b[1;33m(\u001b[0m\u001b[0msequence_vector\u001b[0m\u001b[1;33m)\u001b[0m\u001b[1;33m\u001b[0m\u001b[1;33m\u001b[0m\u001b[0m\n\u001b[0m",
      "\u001b[1;32m~\\AppData\\Local\\Temp\\ipykernel_8456\\950478348.py\u001b[0m in \u001b[0;36mcomparison\u001b[1;34m(vec)\u001b[0m\n\u001b[0;32m     10\u001b[0m     \u001b[1;32mwhile\u001b[0m\u001b[1;33m(\u001b[0m\u001b[0mhavePopped\u001b[0m\u001b[1;33m)\u001b[0m\u001b[1;33m:\u001b[0m\u001b[1;33m\u001b[0m\u001b[1;33m\u001b[0m\u001b[0m\n\u001b[0;32m     11\u001b[0m         \u001b[0mhavePopped\u001b[0m \u001b[1;33m=\u001b[0m \u001b[1;32mFalse\u001b[0m\u001b[1;33m\u001b[0m\u001b[1;33m\u001b[0m\u001b[0m\n\u001b[1;32m---> 12\u001b[1;33m         \u001b[1;32mfor\u001b[0m \u001b[0mi\u001b[0m \u001b[1;32min\u001b[0m \u001b[0mrange\u001b[0m\u001b[1;33m(\u001b[0m\u001b[0mvec\u001b[0m\u001b[1;33m.\u001b[0m\u001b[0msize\u001b[0m\u001b[1;33m(\u001b[0m\u001b[1;33m)\u001b[0m\u001b[1;33m)\u001b[0m\u001b[1;33m:\u001b[0m\u001b[1;33m\u001b[0m\u001b[1;33m\u001b[0m\u001b[0m\n\u001b[0m\u001b[0;32m     13\u001b[0m             \u001b[1;32mif\u001b[0m\u001b[1;33m(\u001b[0m\u001b[0mvec\u001b[0m\u001b[1;33m[\u001b[0m\u001b[0mi\u001b[0m\u001b[1;33m]\u001b[0m \u001b[1;33m==\u001b[0m \u001b[0mvec\u001b[0m\u001b[1;33m[\u001b[0m\u001b[0mi\u001b[0m \u001b[1;33m+\u001b[0m \u001b[1;36m1\u001b[0m\u001b[1;33m]\u001b[0m\u001b[1;33m)\u001b[0m\u001b[1;33m:\u001b[0m\u001b[1;33m\u001b[0m\u001b[1;33m\u001b[0m\u001b[0m\n\u001b[0;32m     14\u001b[0m                 \u001b[0mvec\u001b[0m\u001b[1;33m.\u001b[0m\u001b[0mpop\u001b[0m\u001b[1;33m(\u001b[0m\u001b[0mvec\u001b[0m\u001b[1;33m[\u001b[0m\u001b[0mi\u001b[0m \u001b[1;33m+\u001b[0m \u001b[1;36m1\u001b[0m\u001b[1;33m]\u001b[0m\u001b[1;33m)\u001b[0m\u001b[1;33m\u001b[0m\u001b[1;33m\u001b[0m\u001b[0m\n",
      "\u001b[1;31mTypeError\u001b[0m: 'int' object is not callable"
     ]
    }
   ],
   "source": [
    "merge_sequence = pd.DataFrame()\n",
    "sequence = rna['Sequence']\n",
    "x = 1\n",
    "sequence = rna['Sequence'].tolist()\n",
    "sequence_vector = np.array(sequence)\n",
    "def comparison(vec):\n",
    "    havePopped = True\n",
    "    i = 0\n",
    "    #numPasses = 0\n",
    "    while(havePopped):\n",
    "        havePopped = False\n",
    "        for i in range(vec.size()):\n",
    "            if(vec[i] == vec[i + 1]):\n",
    "                vec.pop(vec[i + 1])\n",
    "                havePopped = True\n",
    "                i += 1\n",
    "    return vec\n",
    "cleaned_vec = comparison(sequence_vector)"
   ]
  }
 ],
 "metadata": {
  "kernelspec": {
   "display_name": "Python 3 (ipykernel)",
   "language": "python",
   "name": "python3"
  },
  "language_info": {
   "codemirror_mode": {
    "name": "ipython",
    "version": 3
   },
   "file_extension": ".py",
   "mimetype": "text/x-python",
   "name": "python",
   "nbconvert_exporter": "python",
   "pygments_lexer": "ipython3",
   "version": "3.9.13"
  }
 },
 "nbformat": 4,
 "nbformat_minor": 5
}
